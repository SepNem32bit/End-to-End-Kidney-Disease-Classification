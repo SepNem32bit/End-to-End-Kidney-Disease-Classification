{
 "cells": [
  {
   "cell_type": "code",
   "execution_count": 1,
   "metadata": {},
   "outputs": [],
   "source": [
    "import os\n",
    "#It goes back to the previous folder (main folder) as we're in research folder\n",
    "os.chdir('../')"
   ]
  },
  {
   "cell_type": "code",
   "execution_count": 2,
   "metadata": {},
   "outputs": [
    {
     "name": "stdout",
     "output_type": "stream",
     "text": [
      "d:\\Data Science\\Python Assignment\\End to End Kidney Disease Detection\n"
     ]
    }
   ],
   "source": [
    "print(os.getcwd())"
   ]
  },
  {
   "cell_type": "markdown",
   "metadata": {},
   "source": [
    "Update the entity"
   ]
  },
  {
   "cell_type": "code",
   "execution_count": 4,
   "metadata": {},
   "outputs": [],
   "source": [
    "from dataclasses import dataclass\n",
    "from pathlib import Path\n",
    "\n",
    "#returning all config parameters which will be used in arrow function output entities\n",
    "#@dataclass(frozen=True) is a decorator in Python's dataclasses module that makes instances of the class immutable after creation. \n",
    "# When applied, it provides the following benefits:\n",
    "# Immutability: Once an obSject is created, you cannot change its attributes. This is enforced by raising an error if there is any attempt to modify the instance's fields.\n",
    "# Hashability: Instances of the class become hashable (i.e., you can use them as keys in dictionaries or add them to sets) as long as all their fields are hashable.\n",
    "@dataclass(frozen=True)\n",
    "class PrepareBaseMLConfig:\n",
    "    root_dir: Path\n",
    "    base_model_path: Path\n",
    "    updated_base_model_path: Path\n",
    "    params_image_size: list\n",
    "    params_learning_rate: float\n",
    "    params_include_top: bool\n",
    "    params_weights: str\n",
    "    params_classes: int\n"
   ]
  },
  {
   "cell_type": "markdown",
   "metadata": {},
   "source": [
    "Update the configuration manager in src config"
   ]
  },
  {
   "cell_type": "code",
   "execution_count": 5,
   "metadata": {},
   "outputs": [],
   "source": [
    "from DiseaseClassifier.constants import *\n",
    "from DiseaseClassifier.utils.common import read_yaml, create_directories\n",
    "\n",
    "\n",
    "    \n",
    "class ConfigurationManager:\n",
    "    def __init__(self,\n",
    "                 #from constants\n",
    "                 config_filepath=CONFIG_FILE_PATH,\n",
    "                 params_filepath=PARAMS_FILE_PATH):\n",
    "        #init file for referencing the config and params files\n",
    "        self.config=read_yaml(config_filepath)\n",
    "        self.params=read_yaml(params_filepath)\n",
    "        #we have artifacts_root in config file\n",
    "        #It'll go through directories and create artifacts folder and subfolders\n",
    "        create_directories([self.config.artifacts_root])\n",
    "    #we've defined DataIngestionConfig class above\n",
    "    def get_prepapre_base_ml_config(self)->PrepareBaseMLConfig:\n",
    "        #prepare_base_ML in artifacts, config file \n",
    "        config=self.config.prepare_base_ML\n",
    "        #referring to prepare_base_ML, artifacts, config file\n",
    "        create_directories([config.root_dir])\n",
    "\n",
    "        prepapre_base_ml_config=PrepareBaseMLConfig(\n",
    "            root_dir=Path(config.root_dir),\n",
    "            base_model_path=Path(config.base_model_path),\n",
    "            updated_base_model_path=Path(config.updated_base_model_path),\n",
    "            params_image_size=self.params.IMAGE_SIZE,\n",
    "            params_learning_rate=self.params.LEARNING_RATE,\n",
    "            params_include_top=self.params.INCLUDE_TOP,\n",
    "            params_weights=self.params.WEIGHTS,\n",
    "            params_classes=self.params.CLASSES\n",
    "            )\n",
    "        return prepapre_base_ml_config\n"
   ]
  },
  {
   "cell_type": "code",
   "execution_count": 15,
   "metadata": {},
   "outputs": [
    {
     "name": "stdout",
     "output_type": "stream",
     "text": [
      "config\\config.yaml\n"
     ]
    }
   ],
   "source": [
    "from DiseaseClassifier.constants import CONFIG_FILE_PATH\n",
    "print(CONFIG_FILE_PATH)"
   ]
  },
  {
   "cell_type": "code",
   "execution_count": 6,
   "metadata": {},
   "outputs": [
    {
     "data": {
      "text/plain": [
       "WindowsPath('config/config.yaml')"
      ]
     },
     "execution_count": 6,
     "metadata": {},
     "output_type": "execute_result"
    }
   ],
   "source": [
    "CONFIG_FILE_PATH"
   ]
  },
  {
   "cell_type": "code",
   "execution_count": 7,
   "metadata": {},
   "outputs": [
    {
     "name": "stdout",
     "output_type": "stream",
     "text": [
      "d:\\Data Science\\Python Assignment\\End to End Kidney Disease Detection\n"
     ]
    }
   ],
   "source": [
    "import os\n",
    "print(os.getcwd())"
   ]
  },
  {
   "cell_type": "code",
   "execution_count": 16,
   "metadata": {},
   "outputs": [],
   "source": [
    "import gdown\n",
    "import zipfile\n",
    "import os\n",
    "from DiseaseClassifier import logger\n",
    "from DiseaseClassifier.utils.common import get_size\n",
    "\n",
    "\n",
    "class DataIngestion:\n",
    "    def __init__(self,config:DataIngestionConfig):\n",
    "        self.config=config\n",
    "        \n",
    "    def download_file(self)->str:\n",
    "        try:\n",
    "            dataset_url=self.config.source_file\n",
    "            zip_download_dir=self.config.local_data_file\n",
    "            os.makedirs(\"artifcats/data_ingestion\",exist_ok=True)\n",
    "            logger.info(f\"Downloading data from {dataset_url} into file {zip_download_dir}\")\n",
    "\n",
    "            file_id=dataset_url.split('/')[-2]\n",
    "            prefix=\"https://drive.google.com/uc?export=download&id=\"\n",
    "            gdown.download(prefix+file_id,zip_download_dir)\n",
    "\n",
    "            logger.info(f\"Downloaded data from {dataset_url} into file {zip_download_dir}\")\n",
    "\n",
    "        except Exception as e:\n",
    "            raise e\n",
    "        \n",
    "    def extract_zip_file(self):\n",
    "        unzip_path=self.config.unzip_dir\n",
    "        os.makedirs(unzip_path,exist_ok=True)\n",
    "        #locating the zip file\n",
    "        with zipfile.ZipFile(self.config.local_data_file) as zip_ref:\n",
    "            #extract it into unzip_path\n",
    "            zip_ref.extractall(unzip_path)"
   ]
  },
  {
   "cell_type": "markdown",
   "metadata": {},
   "source": [
    "Creating the data pipeline"
   ]
  },
  {
   "cell_type": "code",
   "execution_count": 17,
   "metadata": {},
   "outputs": [
    {
     "name": "stdout",
     "output_type": "stream",
     "text": [
      "[2024-09-28 16:55:29,521: INFO: common: yaml file: config\\config.yaml loaded successfully]\n",
      "[2024-09-28 16:55:29,525: INFO: common: yaml file: params.yaml loaded successfully]\n",
      "[2024-09-28 16:55:29,527: INFO: common: created directory at: <class 'pathlib.Path'>]\n",
      "[2024-09-28 16:55:29,529: INFO: common: created directory at: <class 'pathlib.Path'>]\n"
     ]
    }
   ],
   "source": [
    "try:\n",
    "    config= ConfigurationManager()\n",
    "    data_ingestion_config=config.get_data_ingestion_config()\n",
    "    data_ingestion=DataIngestion(config=data_ingestion_config)\n",
    "    #I can't download my file from the google drive so I saved it locally and moved it to artifacts file\n",
    "    # data_ingestion.download_file()\n",
    "    # data_ingestion.extract_zip_file()\n",
    "except Exception as e:\n",
    "    raise e\n"
   ]
  },
  {
   "cell_type": "code",
   "execution_count": null,
   "metadata": {},
   "outputs": [],
   "source": []
  }
 ],
 "metadata": {
  "kernelspec": {
   "display_name": "myenv",
   "language": "python",
   "name": "python3"
  },
  "language_info": {
   "codemirror_mode": {
    "name": "ipython",
    "version": 3
   },
   "file_extension": ".py",
   "mimetype": "text/x-python",
   "name": "python",
   "nbconvert_exporter": "python",
   "pygments_lexer": "ipython3",
   "version": "3.11.9"
  }
 },
 "nbformat": 4,
 "nbformat_minor": 2
}
